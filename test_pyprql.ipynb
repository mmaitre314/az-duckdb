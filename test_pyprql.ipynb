{
 "cells": [
  {
   "cell_type": "markdown",
   "metadata": {},
   "source": [
    "Play with accessing DuckDB and Azure Storage Blobs using PyPRQL Jupyter magics"
   ]
  },
  {
   "cell_type": "code",
   "execution_count": null,
   "metadata": {},
   "outputs": [],
   "source": [
    "%load_ext sql\n",
    "%load_ext pyprql.magic"
   ]
  },
  {
   "cell_type": "code",
   "execution_count": 2,
   "metadata": {},
   "outputs": [],
   "source": [
    "import utils\n",
    "from azure.identity import ChainedTokenCredential, ManagedIdentityCredential, InteractiveBrowserCredential"
   ]
  },
  {
   "cell_type": "code",
   "execution_count": 41,
   "metadata": {},
   "outputs": [],
   "source": [
    "tenant_id = \"3a2d9a5b-25c0-47da-9dff-842d10755773\"\n",
    "account_name = \"azduckdb\"\n",
    "container_name = \"data\"\n",
    "blob_path = \"HuggingFaceFW/fineweb/CC-MAIN-2013-20/*.parquet\""
   ]
  },
  {
   "cell_type": "code",
   "execution_count": 4,
   "metadata": {},
   "outputs": [],
   "source": [
    "credential = ChainedTokenCredential(ManagedIdentityCredential(), InteractiveBrowserCredential(tenant_id=tenant_id))\n",
    "connection_string = utils.get_connection_string(credential, account_name, container_name)"
   ]
  },
  {
   "cell_type": "code",
   "execution_count": 7,
   "metadata": {},
   "outputs": [],
   "source": [
    "%prql duckdb:///:memory:"
   ]
  },
  {
   "cell_type": "code",
   "execution_count": 9,
   "metadata": {
    "vscode": {
     "languageId": "sql"
    }
   },
   "outputs": [
    {
     "data": {
      "text/html": [
       "<span style=\"None\">Running query in &#x27;duckdb:///:memory:&#x27;</span>"
      ],
      "text/plain": [
       "Running query in 'duckdb:///:memory:'"
      ]
     },
     "metadata": {},
     "output_type": "display_data"
    },
    {
     "data": {
      "text/html": [
       "<table>\n",
       "    <thead>\n",
       "        <tr>\n",
       "            <th>Success</th>\n",
       "        </tr>\n",
       "    </thead>\n",
       "    <tbody>\n",
       "    </tbody>\n",
       "</table>"
      ],
      "text/plain": [
       "+---------+\n",
       "| Success |\n",
       "+---------+\n",
       "+---------+"
      ]
     },
     "execution_count": 9,
     "metadata": {},
     "output_type": "execute_result"
    }
   ],
   "source": [
    "%%sql CREATE OR REPLACE SECRET {{account_name}} (\n",
    "    TYPE AZURE,\n",
    "    CONNECTION_STRING '{{connection_string}}',\n",
    "    SCOPE 'az://{{account_name}}.blob.core.windows.net/{{container_name}}/'\n",
    ")"
   ]
  },
  {
   "cell_type": "code",
   "execution_count": 18,
   "metadata": {
    "vscode": {
     "languageId": "sql"
    }
   },
   "outputs": [
    {
     "data": {
      "text/html": [
       "<span style=\"None\">Running query in &#x27;duckdb:///:memory:&#x27;</span>"
      ],
      "text/plain": [
       "Running query in 'duckdb:///:memory:'"
      ]
     },
     "metadata": {},
     "output_type": "display_data"
    },
    {
     "data": {
      "text/html": [
       "<table>\n",
       "    <thead>\n",
       "        <tr>\n",
       "            <th>name</th>\n",
       "            <th>type</th>\n",
       "            <th>provider</th>\n",
       "            <th>persistent</th>\n",
       "            <th>storage</th>\n",
       "            <th>scope</th>\n",
       "            <th>secret_string</th>\n",
       "        </tr>\n",
       "    </thead>\n",
       "    <tbody>\n",
       "        <tr>\n",
       "            <td>azduckdb</td>\n",
       "            <td>azure</td>\n",
       "            <td>config</td>\n",
       "            <td>False</td>\n",
       "            <td>memory</td>\n",
       "            <td>['az://azduckdb.blob.core.windows.net/data/']</td>\n",
       "            <td>name=azduckdb;type=azure;provider=config;serializable=true;scope=az://azduckdb.blob.core.windows.net/data/;connection_string=redacted</td>\n",
       "        </tr>\n",
       "    </tbody>\n",
       "</table>"
      ],
      "text/plain": [
       "+----------+-------+----------+------------+---------+-----------------------------------------------+---------------------------------------------------------------------------------------------------------------------------------------+\n",
       "|   name   |  type | provider | persistent | storage |                     scope                     |                                                             secret_string                                                             |\n",
       "+----------+-------+----------+------------+---------+-----------------------------------------------+---------------------------------------------------------------------------------------------------------------------------------------+\n",
       "| azduckdb | azure |  config  |   False    |  memory | ['az://azduckdb.blob.core.windows.net/data/'] | name=azduckdb;type=azure;provider=config;serializable=true;scope=az://azduckdb.blob.core.windows.net/data/;connection_string=redacted |\n",
       "+----------+-------+----------+------------+---------+-----------------------------------------------+---------------------------------------------------------------------------------------------------------------------------------------+"
      ]
     },
     "execution_count": 18,
     "metadata": {},
     "output_type": "execute_result"
    }
   ],
   "source": [
    "%sql FROM duckdb_secrets()"
   ]
  },
  {
   "cell_type": "code",
   "execution_count": 64,
   "metadata": {
    "vscode": {
     "languageId": "sql"
    }
   },
   "outputs": [
    {
     "data": {
      "text/html": [
       "<div>\n",
       "<style scoped>\n",
       "    .dataframe tbody tr th:only-of-type {\n",
       "        vertical-align: middle;\n",
       "    }\n",
       "\n",
       "    .dataframe tbody tr th {\n",
       "        vertical-align: top;\n",
       "    }\n",
       "\n",
       "    .dataframe thead th {\n",
       "        text-align: right;\n",
       "    }\n",
       "</style>\n",
       "<table border=\"1\" class=\"dataframe\">\n",
       "  <thead>\n",
       "    <tr style=\"text-align: right;\">\n",
       "      <th></th>\n",
       "      <th>text</th>\n",
       "      <th>id</th>\n",
       "      <th>dump</th>\n",
       "      <th>url</th>\n",
       "      <th>date</th>\n",
       "      <th>file_path</th>\n",
       "      <th>language</th>\n",
       "      <th>language_score</th>\n",
       "      <th>token_count</th>\n",
       "    </tr>\n",
       "  </thead>\n",
       "  <tbody>\n",
       "    <tr>\n",
       "      <th>0</th>\n",
       "      <td>How AP reported in all formats from tornado-st...</td>\n",
       "      <td>&lt;urn:uuid:d66bc6fe-8477-4adf-b430-f6a558ccc8ff&gt;</td>\n",
       "      <td>CC-MAIN-2013-20</td>\n",
       "      <td>http://%20jwashington@ap.org/Content/Press-Rel...</td>\n",
       "      <td>2013-05-18T05:48:54Z</td>\n",
       "      <td>s3://commoncrawl/crawl-data/CC-MAIN-2013-20/se...</td>\n",
       "      <td>en</td>\n",
       "      <td>0.972142</td>\n",
       "      <td>717</td>\n",
       "    </tr>\n",
       "    <tr>\n",
       "      <th>1</th>\n",
       "      <td>Did you know you have two little yellow, nine-...</td>\n",
       "      <td>&lt;urn:uuid:803e14c3-dc2e-43d6-b75d-6fb3981c4fe6&gt;</td>\n",
       "      <td>CC-MAIN-2013-20</td>\n",
       "      <td>http://1000awesomethings.com/2012/09/24/934-ad...</td>\n",
       "      <td>2013-05-18T08:11:45Z</td>\n",
       "      <td>s3://commoncrawl/crawl-data/CC-MAIN-2013-20/se...</td>\n",
       "      <td>en</td>\n",
       "      <td>0.947991</td>\n",
       "      <td>821</td>\n",
       "    </tr>\n",
       "    <tr>\n",
       "      <th>2</th>\n",
       "      <td>Car Wash For Clara!\\nNow is your chance to hel...</td>\n",
       "      <td>&lt;urn:uuid:ac1bbfff-9519-4967-9c64-3dc3a4b471ec&gt;</td>\n",
       "      <td>CC-MAIN-2013-20</td>\n",
       "      <td>http://1027kord.com/car-wash-for-clara/</td>\n",
       "      <td>2013-05-18T06:49:55Z</td>\n",
       "      <td>s3://commoncrawl/crawl-data/CC-MAIN-2013-20/se...</td>\n",
       "      <td>en</td>\n",
       "      <td>0.911518</td>\n",
       "      <td>125</td>\n",
       "    </tr>\n",
       "    <tr>\n",
       "      <th>3</th>\n",
       "      <td>Listeners Get Sky-high View of Missoula From H...</td>\n",
       "      <td>&lt;urn:uuid:c1445c58-b111-4c4e-badd-1e43ec317df7&gt;</td>\n",
       "      <td>CC-MAIN-2013-20</td>\n",
       "      <td>http://1075zoofm.com/listeners-get-sky-high-vi...</td>\n",
       "      <td>2013-05-18T06:25:20Z</td>\n",
       "      <td>s3://commoncrawl/crawl-data/CC-MAIN-2013-20/se...</td>\n",
       "      <td>en</td>\n",
       "      <td>0.956516</td>\n",
       "      <td>103</td>\n",
       "    </tr>\n",
       "    <tr>\n",
       "      <th>4</th>\n",
       "      <td>Log In Please enter your ECode to log in.\\nFor...</td>\n",
       "      <td>&lt;urn:uuid:e5829f7d-b944-4468-9573-61b7cb3078cc&gt;</td>\n",
       "      <td>CC-MAIN-2013-20</td>\n",
       "      <td>http://1105govinfoevents.com/enterprisearchite...</td>\n",
       "      <td>2013-05-18T05:27:01Z</td>\n",
       "      <td>s3://commoncrawl/crawl-data/CC-MAIN-2013-20/se...</td>\n",
       "      <td>en</td>\n",
       "      <td>0.798235</td>\n",
       "      <td>75</td>\n",
       "    </tr>\n",
       "  </tbody>\n",
       "</table>\n",
       "</div>"
      ],
      "text/plain": [
       "                                                text  \\\n",
       "0  How AP reported in all formats from tornado-st...   \n",
       "1  Did you know you have two little yellow, nine-...   \n",
       "2  Car Wash For Clara!\\nNow is your chance to hel...   \n",
       "3  Listeners Get Sky-high View of Missoula From H...   \n",
       "4  Log In Please enter your ECode to log in.\\nFor...   \n",
       "\n",
       "                                                id             dump  \\\n",
       "0  <urn:uuid:d66bc6fe-8477-4adf-b430-f6a558ccc8ff>  CC-MAIN-2013-20   \n",
       "1  <urn:uuid:803e14c3-dc2e-43d6-b75d-6fb3981c4fe6>  CC-MAIN-2013-20   \n",
       "2  <urn:uuid:ac1bbfff-9519-4967-9c64-3dc3a4b471ec>  CC-MAIN-2013-20   \n",
       "3  <urn:uuid:c1445c58-b111-4c4e-badd-1e43ec317df7>  CC-MAIN-2013-20   \n",
       "4  <urn:uuid:e5829f7d-b944-4468-9573-61b7cb3078cc>  CC-MAIN-2013-20   \n",
       "\n",
       "                                                 url                  date  \\\n",
       "0  http://%20jwashington@ap.org/Content/Press-Rel...  2013-05-18T05:48:54Z   \n",
       "1  http://1000awesomethings.com/2012/09/24/934-ad...  2013-05-18T08:11:45Z   \n",
       "2            http://1027kord.com/car-wash-for-clara/  2013-05-18T06:49:55Z   \n",
       "3  http://1075zoofm.com/listeners-get-sky-high-vi...  2013-05-18T06:25:20Z   \n",
       "4  http://1105govinfoevents.com/enterprisearchite...  2013-05-18T05:27:01Z   \n",
       "\n",
       "                                           file_path language  language_score  \\\n",
       "0  s3://commoncrawl/crawl-data/CC-MAIN-2013-20/se...       en        0.972142   \n",
       "1  s3://commoncrawl/crawl-data/CC-MAIN-2013-20/se...       en        0.947991   \n",
       "2  s3://commoncrawl/crawl-data/CC-MAIN-2013-20/se...       en        0.911518   \n",
       "3  s3://commoncrawl/crawl-data/CC-MAIN-2013-20/se...       en        0.956516   \n",
       "4  s3://commoncrawl/crawl-data/CC-MAIN-2013-20/se...       en        0.798235   \n",
       "\n",
       "   token_count  \n",
       "0          717  \n",
       "1          821  \n",
       "2          125  \n",
       "3          103  \n",
       "4           75  "
      ]
     },
     "execution_count": 64,
     "metadata": {},
     "output_type": "execute_result"
    }
   ],
   "source": [
    "%%prql\n",
    "from s\"SELECT * FROM 'az://azduckdb.blob.core.windows.net/data/HuggingFaceFW/fineweb/CC-MAIN-2013-20/*.parquet'\"\n",
    "take 5"
   ]
  },
  {
   "cell_type": "code",
   "execution_count": 66,
   "metadata": {
    "vscode": {
     "languageId": "sql"
    }
   },
   "outputs": [
    {
     "data": {
      "text/html": [
       "<div>\n",
       "<style scoped>\n",
       "    .dataframe tbody tr th:only-of-type {\n",
       "        vertical-align: middle;\n",
       "    }\n",
       "\n",
       "    .dataframe tbody tr th {\n",
       "        vertical-align: top;\n",
       "    }\n",
       "\n",
       "    .dataframe thead th {\n",
       "        text-align: right;\n",
       "    }\n",
       "</style>\n",
       "<table border=\"1\" class=\"dataframe\">\n",
       "  <thead>\n",
       "    <tr style=\"text-align: right;\">\n",
       "      <th></th>\n",
       "      <th>count_star()</th>\n",
       "    </tr>\n",
       "  </thead>\n",
       "  <tbody>\n",
       "    <tr>\n",
       "      <th>0</th>\n",
       "      <td>5433000</td>\n",
       "    </tr>\n",
       "  </tbody>\n",
       "</table>\n",
       "</div>"
      ],
      "text/plain": [
       "   count_star()\n",
       "0       5433000"
      ]
     },
     "execution_count": 66,
     "metadata": {},
     "output_type": "execute_result"
    }
   ],
   "source": [
    "%%prql\n",
    "from s\"SELECT * FROM 'az://azduckdb.blob.core.windows.net/data/HuggingFaceFW/fineweb/CC-MAIN-2013-20/*.parquet'\"\n",
    "aggregate { count id }"
   ]
  },
  {
   "cell_type": "code",
   "execution_count": null,
   "metadata": {
    "vscode": {
     "languageId": "sql"
    }
   },
   "outputs": [],
   "source": []
  }
 ],
 "metadata": {
  "kernelspec": {
   "display_name": "az-duckdb",
   "language": "python",
   "name": "python3"
  },
  "language_info": {
   "codemirror_mode": {
    "name": "ipython",
    "version": 3
   },
   "file_extension": ".py",
   "mimetype": "text/x-python",
   "name": "python",
   "nbconvert_exporter": "python",
   "pygments_lexer": "ipython3",
   "version": "3.11.9"
  }
 },
 "nbformat": 4,
 "nbformat_minor": 2
}
