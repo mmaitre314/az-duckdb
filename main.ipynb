{
 "cells": [
  {
   "cell_type": "code",
   "execution_count": 1,
   "metadata": {},
   "outputs": [],
   "source": [
    "%load_ext sql"
   ]
  },
  {
   "cell_type": "code",
   "execution_count": 2,
   "metadata": {},
   "outputs": [],
   "source": [
    "%config SqlMagic.autopandas = True\n",
    "%config SqlMagic.feedback = False\n",
    "%config SqlMagic.displaycon = False"
   ]
  },
  {
   "cell_type": "code",
   "execution_count": 3,
   "metadata": {},
   "outputs": [],
   "source": [
    "%sql duckdb:///:memory:"
   ]
  },
  {
   "cell_type": "code",
   "execution_count": 5,
   "metadata": {},
   "outputs": [
    {
     "data": {
      "text/html": [
       "<div>\n",
       "<style scoped>\n",
       "    .dataframe tbody tr th:only-of-type {\n",
       "        vertical-align: middle;\n",
       "    }\n",
       "\n",
       "    .dataframe tbody tr th {\n",
       "        vertical-align: top;\n",
       "    }\n",
       "\n",
       "    .dataframe thead th {\n",
       "        text-align: right;\n",
       "    }\n",
       "</style>\n",
       "<table border=\"1\" class=\"dataframe\">\n",
       "  <thead>\n",
       "    <tr style=\"text-align: right;\">\n",
       "      <th></th>\n",
       "      <th>Success</th>\n",
       "    </tr>\n",
       "  </thead>\n",
       "  <tbody>\n",
       "  </tbody>\n",
       "</table>\n",
       "</div>"
      ],
      "text/plain": [
       "Empty DataFrame\n",
       "Columns: [Success]\n",
       "Index: []"
      ]
     },
     "execution_count": 5,
     "metadata": {},
     "output_type": "execute_result"
    }
   ],
   "source": [
    "%sql CREATE SECRET azduckdb (TYPE AZURE, PROVIDER CREDENTIAL_CHAIN, SCOPE 'az://azduckdb.blob.core.windows.net/')"
   ]
  },
  {
   "cell_type": "code",
   "execution_count": 6,
   "metadata": {},
   "outputs": [
    {
     "data": {
      "text/html": [
       "<div>\n",
       "<style scoped>\n",
       "    .dataframe tbody tr th:only-of-type {\n",
       "        vertical-align: middle;\n",
       "    }\n",
       "\n",
       "    .dataframe tbody tr th {\n",
       "        vertical-align: top;\n",
       "    }\n",
       "\n",
       "    .dataframe thead th {\n",
       "        text-align: right;\n",
       "    }\n",
       "</style>\n",
       "<table border=\"1\" class=\"dataframe\">\n",
       "  <thead>\n",
       "    <tr style=\"text-align: right;\">\n",
       "      <th></th>\n",
       "      <th>name</th>\n",
       "      <th>type</th>\n",
       "      <th>provider</th>\n",
       "      <th>persistent</th>\n",
       "      <th>storage</th>\n",
       "      <th>scope</th>\n",
       "      <th>secret_string</th>\n",
       "    </tr>\n",
       "  </thead>\n",
       "  <tbody>\n",
       "    <tr>\n",
       "      <th>0</th>\n",
       "      <td>azduckdb</td>\n",
       "      <td>azure</td>\n",
       "      <td>credential_chain</td>\n",
       "      <td>False</td>\n",
       "      <td>memory</td>\n",
       "      <td>[az://azduckdb.blob.core.windows.net/]</td>\n",
       "      <td>name=azduckdb;type=azure;provider=credential_c...</td>\n",
       "    </tr>\n",
       "  </tbody>\n",
       "</table>\n",
       "</div>"
      ],
      "text/plain": [
       "       name   type          provider  persistent storage  \\\n",
       "0  azduckdb  azure  credential_chain       False  memory   \n",
       "\n",
       "                                    scope  \\\n",
       "0  [az://azduckdb.blob.core.windows.net/]   \n",
       "\n",
       "                                       secret_string  \n",
       "0  name=azduckdb;type=azure;provider=credential_c...  "
      ]
     },
     "execution_count": 6,
     "metadata": {},
     "output_type": "execute_result"
    }
   ],
   "source": [
    "%sql FROM duckdb_secrets()"
   ]
  },
  {
   "cell_type": "code",
   "execution_count": 9,
   "metadata": {},
   "outputs": [
    {
     "name": "stderr",
     "output_type": "stream",
     "text": [
      "RuntimeError: (duckdb.duckdb.IOException) IO Error: AzureBlobStorageFileSystem open file 'az://azduckdb.blob.core.windows.net/data/HuggingFaceFW/fineweb/CC-MAIN-2013-20/000_00000.parquet' failed with code'', Reason Phrase: 'Server failed to authenticate the request. Please refer to the information in the www-authenticate header.', Message: ''\n",
      "[SQL: SELECT count(*) FROM 'az://azduckdb.blob.core.windows.net/data/HuggingFaceFW/fineweb/CC-MAIN-2013-20/000_00000.parquet']\n",
      "(Background on this error at: https://sqlalche.me/e/20/e3q8)\n",
      "If you need help solving this issue, send us a message: https://ploomber.io/community\n"
     ]
    }
   ],
   "source": [
    "%sql SELECT count(*) FROM 'az://azduckdb.blob.core.windows.net/data/HuggingFaceFW/fineweb/CC-MAIN-2013-20/000_00000.parquet'"
   ]
  },
  {
   "cell_type": "markdown",
   "metadata": {},
   "source": [
    "# TODO: clean up"
   ]
  },
  {
   "cell_type": "code",
   "execution_count": 4,
   "metadata": {},
   "outputs": [],
   "source": [
    "%prql duckdb:///:memory:"
   ]
  },
  {
   "cell_type": "code",
   "execution_count": 12,
   "metadata": {},
   "outputs": [
    {
     "data": {
      "text/html": [
       "<span style=\"None\">Running query in &#x27;duckdb:///:memory:&#x27;</span>"
      ],
      "text/plain": [
       "Running query in 'duckdb:///:memory:'"
      ]
     },
     "metadata": {},
     "output_type": "display_data"
    },
    {
     "data": {
      "text/html": [
       "<table>\n",
       "    <thead>\n",
       "        <tr>\n",
       "            <th>Success</th>\n",
       "        </tr>\n",
       "    </thead>\n",
       "    <tbody>\n",
       "    </tbody>\n",
       "</table>"
      ],
      "text/plain": [
       "+---------+\n",
       "| Success |\n",
       "+---------+\n",
       "+---------+"
      ]
     },
     "execution_count": 12,
     "metadata": {},
     "output_type": "execute_result"
    }
   ],
   "source": [
    "%%sql\n",
    "CREATE SECRET azduckdb2 (TYPE AZURE, PROVIDER CREDENTIAL_CHAIN, ACCOUNT_NAME 'azduckdb.blob.core.windows.net')"
   ]
  },
  {
   "cell_type": "code",
   "execution_count": 14,
   "metadata": {},
   "outputs": [
    {
     "data": {
      "text/html": [
       "<span style=\"None\">Running query in &#x27;duckdb:///:memory:&#x27;</span>"
      ],
      "text/plain": [
       "Running query in 'duckdb:///:memory:'"
      ]
     },
     "metadata": {},
     "output_type": "display_data"
    },
    {
     "name": "stderr",
     "output_type": "stream",
     "text": [
      "RuntimeError: (duckdb.duckdb.IOException) IO Error: AzureBlobStorageFileSystem open file 'az://data/HuggingFaceFW/fineweb/CC-MAIN-2013-20/000_00000.parquet' failed with code'', Reason Phrase: 'Server failed to authenticate the request. Please refer to the information in the www-authenticate header.', Message: ''\n",
      "[SQL: SELECT * FROM 'az://data/HuggingFaceFW/fineweb/CC-MAIN-2013-20/000_00000.parquet' LIMIT 10]\n",
      "(Background on this error at: https://sqlalche.me/e/20/e3q8)\n",
      "If you need help solving this issue, send us a message: https://ploomber.io/community\n"
     ]
    }
   ],
   "source": [
    "%%sql\n",
    "SELECT * FROM 'az://data/HuggingFaceFW/fineweb/CC-MAIN-2013-20/000_00000.parquet' LIMIT 10"
   ]
  },
  {
   "cell_type": "code",
   "execution_count": 15,
   "metadata": {},
   "outputs": [],
   "source": [
    "import duckdb"
   ]
  },
  {
   "cell_type": "code",
   "execution_count": 23,
   "metadata": {},
   "outputs": [
    {
     "ename": "IOException",
     "evalue": "IO Error: AzureBlobStorageFileSystem could not open file: 'az://data/HuggingFaceFW/fineweb/CC-MAIN-2013-20/000_00000.parquet', unknown error occurred, this could mean the credentials used were wrong. Original error message: 'Error while getting a connection handle. Error Code: 12005: The URL is invalid\r\n.' ",
     "output_type": "error",
     "traceback": [
      "\u001b[1;31m---------------------------------------------------------------------------\u001b[0m",
      "\u001b[1;31mIOException\u001b[0m                               Traceback (most recent call last)",
      "Cell \u001b[1;32mIn[23], line 1\u001b[0m\n\u001b[1;32m----> 1\u001b[0m \u001b[43mduckdb\u001b[49m\u001b[38;5;241;43m.\u001b[39;49m\u001b[43msql\u001b[49m\u001b[43m(\u001b[49m\u001b[38;5;124;43m\"\u001b[39;49m\u001b[38;5;124;43mSELECT * FROM \u001b[39;49m\u001b[38;5;124;43m'\u001b[39;49m\u001b[38;5;124;43maz://data/HuggingFaceFW/fineweb/CC-MAIN-2013-20/000_00000.parquet\u001b[39;49m\u001b[38;5;124;43m'\u001b[39;49m\u001b[38;5;124;43m LIMIT 10\u001b[39;49m\u001b[38;5;124;43m\"\u001b[39;49m\u001b[43m)\u001b[49m\n",
      "File \u001b[1;32mc:\\Users\\mmaitre\\Miniconda3\\envs\\az-duckdb\\Lib\\site-packages\\duckdb\\__init__.py:457\u001b[0m, in \u001b[0;36msql\u001b[1;34m(query, **kwargs)\u001b[0m\n\u001b[0;32m    455\u001b[0m \u001b[38;5;28;01melse\u001b[39;00m:\n\u001b[0;32m    456\u001b[0m     conn \u001b[38;5;241m=\u001b[39m duckdb\u001b[38;5;241m.\u001b[39mconnect(\u001b[38;5;124m\"\u001b[39m\u001b[38;5;124m:default:\u001b[39m\u001b[38;5;124m\"\u001b[39m)\n\u001b[1;32m--> 457\u001b[0m \u001b[38;5;28;01mreturn\u001b[39;00m \u001b[43mconn\u001b[49m\u001b[38;5;241;43m.\u001b[39;49m\u001b[43msql\u001b[49m\u001b[43m(\u001b[49m\u001b[43mquery\u001b[49m\u001b[43m,\u001b[49m\u001b[43m \u001b[49m\u001b[38;5;241;43m*\u001b[39;49m\u001b[38;5;241;43m*\u001b[39;49m\u001b[43mkwargs\u001b[49m\u001b[43m)\u001b[49m\n",
      "\u001b[1;31mIOException\u001b[0m: IO Error: AzureBlobStorageFileSystem could not open file: 'az://data/HuggingFaceFW/fineweb/CC-MAIN-2013-20/000_00000.parquet', unknown error occurred, this could mean the credentials used were wrong. Original error message: 'Error while getting a connection handle. Error Code: 12005: The URL is invalid\r\n.' "
     ]
    }
   ],
   "source": [
    "duckdb.sql(\"SELECT * FROM 'az://data/HuggingFaceFW/fineweb/CC-MAIN-2013-20/000_00000.parquet' LIMIT 10\")"
   ]
  },
  {
   "cell_type": "code",
   "execution_count": 22,
   "metadata": {},
   "outputs": [
    {
     "data": {
      "text/plain": [
       "┌─────────┐\n",
       "│ Success │\n",
       "│ boolean │\n",
       "├─────────┤\n",
       "│ true    │\n",
       "└─────────┘"
      ]
     },
     "execution_count": 22,
     "metadata": {},
     "output_type": "execute_result"
    }
   ],
   "source": [
    "duckdb.sql(\"\"\"CREATE SECRET secret5 (\n",
    "    TYPE AZURE,\n",
    "    PROVIDER CREDENTIAL_CHAIN,\n",
    "    SCOPE 'azduckdb'\n",
    ");\"\"\")"
   ]
  },
  {
   "cell_type": "code",
   "execution_count": 27,
   "metadata": {},
   "outputs": [
    {
     "data": {
      "text/html": [
       "<span style=\"None\">Running query in &#x27;duckdb:///:memory:&#x27;</span>"
      ],
      "text/plain": [
       "Running query in 'duckdb:///:memory:'"
      ]
     },
     "metadata": {},
     "output_type": "display_data"
    },
    {
     "data": {
      "text/html": [
       "<table>\n",
       "    <thead>\n",
       "        <tr>\n",
       "            <th>name</th>\n",
       "            <th>type</th>\n",
       "            <th>provider</th>\n",
       "            <th>persistent</th>\n",
       "            <th>storage</th>\n",
       "            <th>scope</th>\n",
       "            <th>secret_string</th>\n",
       "        </tr>\n",
       "    </thead>\n",
       "    <tbody>\n",
       "        <tr>\n",
       "            <td>azduckdb</td>\n",
       "            <td>azure</td>\n",
       "            <td>credential_chain</td>\n",
       "            <td>False</td>\n",
       "            <td>memory</td>\n",
       "            <td>['azure://', 'az://', 'abfss://']</td>\n",
       "            <td>name=azduckdb;type=azure;provider=credential_chain;serializable=true;scope=azure://,az://,abfss://;account_name=azduckdb</td>\n",
       "        </tr>\n",
       "        <tr>\n",
       "            <td>azduckdb2</td>\n",
       "            <td>azure</td>\n",
       "            <td>credential_chain</td>\n",
       "            <td>False</td>\n",
       "            <td>memory</td>\n",
       "            <td>['azure://', 'az://', 'abfss://']</td>\n",
       "            <td>name=azduckdb2;type=azure;provider=credential_chain;serializable=true;scope=azure://,az://,abfss://;account_name=azduckdb.blob.core.windows.net</td>\n",
       "        </tr>\n",
       "        <tr>\n",
       "            <td>azduckdb3</td>\n",
       "            <td>azure</td>\n",
       "            <td>credential_chain</td>\n",
       "            <td>False</td>\n",
       "            <td>memory</td>\n",
       "            <td>['az://azduckdb.blob.core.windows.net/']</td>\n",
       "            <td>name=azduckdb3;type=azure;provider=credential_chain;serializable=true;scope=az://azduckdb.blob.core.windows.net/;</td>\n",
       "        </tr>\n",
       "    </tbody>\n",
       "</table>"
      ],
      "text/plain": [
       "+-----------+-------+------------------+------------+---------+------------------------------------------+-------------------------------------------------------------------------------------------------------------------------------------------------+\n",
       "|    name   |  type |     provider     | persistent | storage |                  scope                   |                                                                  secret_string                                                                  |\n",
       "+-----------+-------+------------------+------------+---------+------------------------------------------+-------------------------------------------------------------------------------------------------------------------------------------------------+\n",
       "|  azduckdb | azure | credential_chain |   False    |  memory |    ['azure://', 'az://', 'abfss://']     |             name=azduckdb;type=azure;provider=credential_chain;serializable=true;scope=azure://,az://,abfss://;account_name=azduckdb            |\n",
       "| azduckdb2 | azure | credential_chain |   False    |  memory |    ['azure://', 'az://', 'abfss://']     | name=azduckdb2;type=azure;provider=credential_chain;serializable=true;scope=azure://,az://,abfss://;account_name=azduckdb.blob.core.windows.net |\n",
       "| azduckdb3 | azure | credential_chain |   False    |  memory | ['az://azduckdb.blob.core.windows.net/'] |                name=azduckdb3;type=azure;provider=credential_chain;serializable=true;scope=az://azduckdb.blob.core.windows.net/;                |\n",
       "+-----------+-------+------------------+------------+---------+------------------------------------------+-------------------------------------------------------------------------------------------------------------------------------------------------+"
      ]
     },
     "execution_count": 27,
     "metadata": {},
     "output_type": "execute_result"
    }
   ],
   "source": [
    "%%sql\n",
    "FROM duckdb_secrets()"
   ]
  },
  {
   "cell_type": "code",
   "execution_count": 26,
   "metadata": {},
   "outputs": [
    {
     "data": {
      "text/html": [
       "<span style=\"None\">Running query in &#x27;duckdb:///:memory:&#x27;</span>"
      ],
      "text/plain": [
       "Running query in 'duckdb:///:memory:'"
      ]
     },
     "metadata": {},
     "output_type": "display_data"
    },
    {
     "data": {
      "text/html": [
       "<table>\n",
       "    <thead>\n",
       "        <tr>\n",
       "            <th>Success</th>\n",
       "        </tr>\n",
       "    </thead>\n",
       "    <tbody>\n",
       "    </tbody>\n",
       "</table>"
      ],
      "text/plain": [
       "+---------+\n",
       "| Success |\n",
       "+---------+\n",
       "+---------+"
      ]
     },
     "execution_count": 26,
     "metadata": {},
     "output_type": "execute_result"
    }
   ],
   "source": [
    "%%sql\n",
    "\n",
    "CREATE SECRET azduckdb3 (\n",
    "    TYPE AZURE,\n",
    "    PROVIDER CREDENTIAL_CHAIN,\n",
    "    SCOPE 'az://azduckdb.blob.core.windows.net/'\n",
    ")"
   ]
  },
  {
   "cell_type": "code",
   "execution_count": 28,
   "metadata": {},
   "outputs": [
    {
     "data": {
      "text/html": [
       "<span style=\"None\">Running query in &#x27;duckdb:///:memory:&#x27;</span>"
      ],
      "text/plain": [
       "Running query in 'duckdb:///:memory:'"
      ]
     },
     "metadata": {},
     "output_type": "display_data"
    },
    {
     "name": "stderr",
     "output_type": "stream",
     "text": [
      "RuntimeError: (duckdb.duckdb.IOException) IO Error: AzureBlobStorageFileSystem open file 'az://azduckdb.blob.core.windows.net/data/HuggingFaceFW/fineweb/CC-MAIN-2013-20/000_00000.parquet' failed with code'', Reason Phrase: 'Server failed to authenticate the request. Please refer to the information in the www-authenticate header.', Message: ''\n",
      "[SQL: SELECT * FROM 'az://azduckdb.blob.core.windows.net/data/HuggingFaceFW/fineweb/CC-MAIN-2013-20/000_00000.parquet' LIMIT 10]\n",
      "(Background on this error at: https://sqlalche.me/e/20/e3q8)\n",
      "If you need help solving this issue, send us a message: https://ploomber.io/community\n"
     ]
    }
   ],
   "source": [
    "%%sql\n",
    "\n",
    "SELECT * FROM 'az://azduckdb.blob.core.windows.net/data/HuggingFaceFW/fineweb/CC-MAIN-2013-20/000_00000.parquet' LIMIT 10"
   ]
  },
  {
   "cell_type": "code",
   "execution_count": null,
   "metadata": {},
   "outputs": [],
   "source": []
  }
 ],
 "metadata": {
  "kernelspec": {
   "display_name": "Python 3",
   "language": "python",
   "name": "python3"
  },
  "language_info": {
   "codemirror_mode": {
    "name": "ipython",
    "version": 3
   },
   "file_extension": ".py",
   "mimetype": "text/x-python",
   "name": "python",
   "nbconvert_exporter": "python",
   "pygments_lexer": "ipython3",
   "version": "3.11.9"
  }
 },
 "nbformat": 4,
 "nbformat_minor": 2
}
