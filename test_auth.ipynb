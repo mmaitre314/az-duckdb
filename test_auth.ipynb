{
 "cells": [
  {
   "cell_type": "markdown",
   "metadata": {},
   "source": [
    "Test authentication from DuckDB to Azure Storage Containers using user-delegated SAS tokens and custom token-credential chains"
   ]
  },
  {
   "cell_type": "code",
   "execution_count": 4,
   "metadata": {},
   "outputs": [],
   "source": [
    "import duckdb\n",
    "import utils\n",
    "from azure.identity import ChainedTokenCredential, ManagedIdentityCredential, InteractiveBrowserCredential"
   ]
  },
  {
   "cell_type": "code",
   "execution_count": 5,
   "metadata": {},
   "outputs": [],
   "source": [
    "tenant_id='3a2d9a5b-25c0-47da-9dff-842d10755773'\n",
    "account_name = \"azduckdb\"\n",
    "container_name = \"data\"\n",
    "blob_path = \"HuggingFaceFW/fineweb/CC-MAIN-2013-20/*.parquet\""
   ]
  },
  {
   "cell_type": "code",
   "execution_count": 7,
   "metadata": {},
   "outputs": [],
   "source": [
    "credential = ChainedTokenCredential(ManagedIdentityCredential(), InteractiveBrowserCredential(tenant_id=tenant_id))"
   ]
  },
  {
   "cell_type": "code",
   "execution_count": 9,
   "metadata": {},
   "outputs": [
    {
     "data": {
      "text/plain": [
       "┌─────────┐\n",
       "│ Success │\n",
       "│ boolean │\n",
       "├─────────┤\n",
       "│ true    │\n",
       "└─────────┘"
      ]
     },
     "execution_count": 9,
     "metadata": {},
     "output_type": "execute_result"
    }
   ],
   "source": [
    "duckdb.sql(f\"\"\"\n",
    "    CREATE OR REPLACE SECRET {account_name} (\n",
    "        TYPE AZURE,\n",
    "        CONNECTION_STRING '{utils.get_connection_string(credential, account_name, container_name)}',\n",
    "        SCOPE 'az://{account_name}.blob.core.windows.net/{container_name}/'\n",
    "    )\n",
    "    \"\"\")"
   ]
  },
  {
   "cell_type": "code",
   "execution_count": 11,
   "metadata": {},
   "outputs": [
    {
     "data": {
      "text/plain": [
       "┌──────────┬─────────┬──────────┬────────────┬─────────┬──────────────────────┬────────────────────────────────────────┐\n",
       "│   name   │  type   │ provider │ persistent │ storage │        scope         │             secret_string              │\n",
       "│ varchar  │ varchar │ varchar  │  boolean   │ varchar │      varchar[]       │                varchar                 │\n",
       "├──────────┼─────────┼──────────┼────────────┼─────────┼──────────────────────┼────────────────────────────────────────┤\n",
       "│ azduckdb │ azure   │ config   │ false      │ memory  │ [az://azduckdb.blo…  │ name=azduckdb;type=azure;provider=co…  │\n",
       "└──────────┴─────────┴──────────┴────────────┴─────────┴──────────────────────┴────────────────────────────────────────┘"
      ]
     },
     "execution_count": 11,
     "metadata": {},
     "output_type": "execute_result"
    }
   ],
   "source": [
    "duckdb.sql(\"FROM duckdb_secrets()\")"
   ]
  },
  {
   "cell_type": "code",
   "execution_count": 10,
   "metadata": {},
   "outputs": [
    {
     "data": {
      "text/plain": [
       "┌──────────────┐\n",
       "│ count_star() │\n",
       "│    int64     │\n",
       "├──────────────┤\n",
       "│      5433000 │\n",
       "└──────────────┘"
      ]
     },
     "execution_count": 10,
     "metadata": {},
     "output_type": "execute_result"
    }
   ],
   "source": [
    "duckdb.sql(f\"SELECT COUNT(*) FROM 'az://{account_name}.blob.core.windows.net/{container_name}/{blob_path}'\")"
   ]
  },
  {
   "cell_type": "code",
   "execution_count": 13,
   "metadata": {},
   "outputs": [
    {
     "data": {
      "text/plain": [
       "┌────────────────┬─────────────┬─────────┬─────────┬─────────┬─────────┐\n",
       "│  column_name   │ column_type │  null   │   key   │ default │  extra  │\n",
       "│    varchar     │   varchar   │ varchar │ varchar │ varchar │ varchar │\n",
       "├────────────────┼─────────────┼─────────┼─────────┼─────────┼─────────┤\n",
       "│ text           │ VARCHAR     │ YES     │ NULL    │ NULL    │ NULL    │\n",
       "│ id             │ VARCHAR     │ YES     │ NULL    │ NULL    │ NULL    │\n",
       "│ dump           │ VARCHAR     │ YES     │ NULL    │ NULL    │ NULL    │\n",
       "│ url            │ VARCHAR     │ YES     │ NULL    │ NULL    │ NULL    │\n",
       "│ date           │ VARCHAR     │ YES     │ NULL    │ NULL    │ NULL    │\n",
       "│ file_path      │ VARCHAR     │ YES     │ NULL    │ NULL    │ NULL    │\n",
       "│ language       │ VARCHAR     │ YES     │ NULL    │ NULL    │ NULL    │\n",
       "│ language_score │ DOUBLE      │ YES     │ NULL    │ NULL    │ NULL    │\n",
       "│ token_count    │ BIGINT      │ YES     │ NULL    │ NULL    │ NULL    │\n",
       "└────────────────┴─────────────┴─────────┴─────────┴─────────┴─────────┘"
      ]
     },
     "execution_count": 13,
     "metadata": {},
     "output_type": "execute_result"
    }
   ],
   "source": [
    "duckdb.sql(f\"DESCRIBE TABLE 'az://{account_name}.blob.core.windows.net/{container_name}/{blob_path}'\")"
   ]
  }
 ],
 "metadata": {
  "kernelspec": {
   "display_name": "Python 3",
   "language": "python",
   "name": "python3"
  },
  "language_info": {
   "codemirror_mode": {
    "name": "ipython",
    "version": 3
   },
   "file_extension": ".py",
   "mimetype": "text/x-python",
   "name": "python",
   "nbconvert_exporter": "python",
   "pygments_lexer": "ipython3",
   "version": "3.11.9"
  }
 },
 "nbformat": 4,
 "nbformat_minor": 2
}
